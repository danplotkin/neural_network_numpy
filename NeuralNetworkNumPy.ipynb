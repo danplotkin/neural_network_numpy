{
  "nbformat": 4,
  "nbformat_minor": 0,
  "metadata": {
    "colab": {
      "provenance": [],
      "include_colab_link": true
    },
    "kernelspec": {
      "name": "python3",
      "display_name": "Python 3"
    },
    "language_info": {
      "name": "python"
    }
  },
  "cells": [
    {
      "cell_type": "markdown",
      "metadata": {
        "id": "view-in-github",
        "colab_type": "text"
      },
      "source": [
        "<a href=\"https://colab.research.google.com/github/danplotkin/neural_network_numpy/blob/main/NeuralNetworkNumPy.ipynb\" target=\"_parent\"><img src=\"https://colab.research.google.com/assets/colab-badge.svg\" alt=\"Open In Colab\"/></a>"
      ]
    },
    {
      "cell_type": "markdown",
      "source": [
        "# Introduction\n",
        "\n",
        "The concept of neural networks is inspired by the study of how our brain learns new information. Researchers in the field of cognitive science have learned that through a mechanism called neural plasticity, the brain can learn and adapt to new information. In the 1940s and 1950s, researchers in artificial intelligence started developing mathematical models designed to mimic the behavior of neurons and the way they process information during neural plasticity. These models are known as Artificial Neural Networks (ANN).\n",
        "\n",
        "In this project, I will demonstrate learn how to build a basic neural network from scratch without using any deep learning libraries such as Keras and PyTorch. The purpose of this demonstration is to give a better understanding of the mechanics and computations that go into building a neural network. I will be using an object-oriented approach. The dataset I will be training the network on is the MNIST hand-written digit dataset that comes with Google Colab."
      ],
      "metadata": {
        "id": "S_lFd_0F8jqp"
      }
    },
    {
      "cell_type": "markdown",
      "source": [
        "# Architecture of an Artifical Neural Network\n",
        "\n",
        "As mentioned above, an ANN is a type of machine learning algorithm that is modeled after the structure and function of the human brain. The architecture of an ANN typically consists of three main layers:\n",
        "\n",
        "* **Input Layer:** The input layer receives the input data and passes it on to the next layer. The number of neurons in the input layer corresponds to the number of features in the input data.\n",
        "\n",
        "* **Hidden Layers:** The hidden layers process the input data and perform computations on it. The number of hidden layers and the number of neurons in each layer can vary depending on the complexity of the problem. In general, the more hidden layers and neurons, the more powerful the network will be in capturing complex patterns in the data.\n",
        "\n",
        "* **Output Layer:** The output layer produces the final output of the network. The number of neurons in the output layer corresponds to the number of output classes or output values.\n",
        "\n",
        "Every neuron in one layer is connected to the neurons in the next layer. They are connected through a weight value. The weight values can be represented as a matrix that will be multiplied by the neurons at the beginning of the link, which can also be represented as a matrix, to get the raw outputs of that link. This is modeled using the dot product. Below is an image from [Data Science Central](https://www.datasciencecentral.com/the-artificial-neural-networks-handbook-part-1/) showing the architecture of a simple ANN:\n",
        "\n",
        "<img src=\"https://www.datasciencecentral.com/wp-content/uploads/2021/10/2808361999.jpg\" alt=\"Image Description\" width=\"500\" />\n",
        "\n"
      ],
      "metadata": {
        "id": "zsiQkFc18qQf"
      }
    },
    {
      "cell_type": "markdown",
      "source": [
        "# Training Process\n",
        "\n",
        "When training an ANN, there are two processes ongoing sequantially back and forth:\n",
        "\n",
        "1) **Forward Propagation**\n",
        "\n",
        "2) **Backpropagation**\n",
        "\n",
        "### Forward Propagation\n",
        "\n",
        "Forward Propagation is the process of moving from left (input layer) to right (output layer) of an ANN. This is the initial step in the training of an ANN, where the input data is fed through the input layer, passes through any hidden layers, and eventually reaches the output layer.\n",
        "\n",
        "During the Forward Propagation phase, the input data is multiplied by the weights of the connections between the neurons in each layer. This is done using a dot product which gives us a weighted sum. Then, the bias value of the neuron is added to this sum. The resulting value is then passed through an **activation function**, such as the sigmoid function, the rectified linear unit (ReLU), and the hyperbolic tangent (tanh) function, which helps to introduce non-linearity into the network. We will talk more about activation functions in the next section. This is important because it allows the network to detect and learn more complex patterns in the data. Below is an image via [Coding Ninjas](https://www.codingninjas.com/studio/library/understanding-forward-propagation) to visualize the process of Forward Propagation:\n",
        "\n",
        "![Image](https://raw.githubusercontent.com/danplotkin/neural_network_numpy//main/understanding-forward-propagation-0-1640175094.jpg)"
      ],
      "metadata": {
        "id": "wxrPIX70MZ1p"
      }
    },
    {
      "cell_type": "markdown",
      "source": [
        "### Backpropagation\n",
        "\n",
        "Backpropagation is the technique used to adjust the weights and biases of an ANN to reduce the difference between the predicted output and the actual output. This process is essential in training an ANN to perform well.  The core of this method is the application of the **chain rule** of calculus, which allows for efficient computation of gradients. The backpropagation process starts by calculating the error at the output layer. This is done by comparing the predicted output with the actual output. The error is then sent back through the network, one layer at a time. The goal is to adjust the weights and biases in each layer in such a way that the error is minimized. This is done by calculating the gradient of the loss function with respect to the weights and biases of the neurons. The gradient tells us how much each weight and bias should be adjusted to reduce the error. We use an optimization algorithm, such as **Stochastic Gradient Descent (SGD)**, to update the weights and biases of the neurons. By repeating this process over and over again, the network gets better and better at predicting the desired output. Below shows an image via [Towards Data Science](https://towardsdatascience.com/the-maths-behind-back-propagation-cf6714736abf) to visualize this process:\n",
        "\n",
        "![](https://miro.medium.com/v2/resize:fit:1200/1*XJ7ioX3mFycK5FwsLqVJ8w.png)\n",
        "\n",
        "Below is the equation for gradient decent, which is used to update the weights and biases using the calculated gradients calculated through backpropagation:\n",
        "\n",
        "$$w_{ij}^{(l)} = w_{ij}^{(l)} - \\alpha \\frac{\\partial J}{\\partial w_{ij}^{(l)}}$$\n",
        "\n",
        "$$b_j^{(l)} = b_j^{(l)} - \\alpha \\frac{\\partial J}{\\partial b_j^{(l)}}\n",
        "$$\n",
        "\n",
        "*Note: $\\alpha$ is the learning rate, a hyperparameter controlling the speed of gradient descent. It is being multiplied by the gradients of the loss function with respect to the weights and biases.*\n",
        "\n",
        "Below is a more detailed explanation of backpropagation:\n",
        "\n",
        "1. **Error Calculation with Chain Rule:** Backpropagation commences by evaluating the error at the output layer. This is achieved through a comparison between the predicted output and the ground truth. The computed error is then propagated backward through the network, layer by layer, employing the chain rule of calculus.\n",
        "\n",
        "2. **Error Propagation through Layers:** The error is systematically sent back through the network, starting from the output layer and working in reverse. The objective is to adjust the weights and biases in each layer in a way that minimizes the error. At each layer, we calculate the gradient of the loss function with respect to the weights and biases of the neurons.\n",
        "\n",
        "3. **The Chain Rule in Action:** The chain rule is instrumental in this process. It allows us to compute these gradients by taking into account how each neuron's output depends on its inputs and how each layer's parameters impact the overall network output. Specifically, it involves multiplying the gradient of the loss function with respect to the layer's output (dL/da) by the gradient of the layer's output with respect to its weighted sum (da/dz).\n",
        "\n",
        "4. **Gradient-Based Weight and Bias Adjustments:** With the gradients computed, we now possess information on how much each weight and bias should be adjusted to minimize the error. This information guides us in tweaking the model's parameters for each neuron. The adjustment process typically utilizes an optimization algorithm, such as Stochastic Gradient Descent (SGD).\n",
        "\n",
        "5. **Iterative Learning:** This process of forward and backward passes with gradient-based parameter adjustments is performed iteratively for batches of data samples. The goal is to progressively reduce the error until the network's predictions align closely with the desired outputs.\n",
        "\n",
        "This all may seem very confusing, but the NumPy implemenation should simplify it!"
      ],
      "metadata": {
        "id": "kNPOw242OAA_"
      }
    },
    {
      "cell_type": "markdown",
      "source": [
        "# Activation Functions\n",
        "\n",
        "We will discuss some of the common activation function used in nerual networks to introduce non-linearity to the network."
      ],
      "metadata": {
        "id": "-C6m25KNjYFZ"
      }
    },
    {
      "cell_type": "markdown",
      "source": [
        "### Sigmoid\n",
        "\n",
        "The sigmoid activation function is an activation function used to introduce non-linearity into a network. It maps the output of a neuron to a range between 0 and 1. Below is the equations for sigmoid and its derivative:\n",
        "\n",
        "$$ \\sigma(x) = \\frac{1}{1 + e^{-x}}\\ $$\n",
        "\n",
        "$$ \\sigma'(x) = \\sigma(x) \\cdot (1 - \\sigma(x)) $$\n",
        "\n",
        "Below I will create the NumPy implementation of sigmoid and its derivative. I introduced logit clipping to keep the logits in between the range of -500 and 500 to prevent overflow errors for very large positve values of $x$."
      ],
      "metadata": {
        "id": "lIuD3CYfHl0c"
      }
    },
    {
      "cell_type": "code",
      "execution_count": 1,
      "metadata": {
        "id": "P7c_jLk4Mc7E"
      },
      "outputs": [],
      "source": [
        "import numpy as np\n",
        "import pandas as pd\n",
        "import matplotlib.pyplot as plt\n",
        "\n",
        "np.random.seed(42)"
      ]
    },
    {
      "cell_type": "code",
      "source": [
        "def sigmoid(x):\n",
        "    \"\"\"\n",
        "    Sigmoid activation function.\n",
        "    \"\"\"\n",
        "    clipped_x = np.clip(x, -500, 500)  # Clip values to prevent overflow\n",
        "    return 1 / (1 + np.exp(-clipped_x))\n",
        "\n",
        "\n",
        "def sigmoid_derivative(x):\n",
        "    \"\"\"\n",
        "    Derivative of sigmoid.\n",
        "    \"\"\"\n",
        "    return sigmoid(x) * (1 - sigmoid(x))"
      ],
      "metadata": {
        "id": "Rttui5YuEuvC"
      },
      "execution_count": 2,
      "outputs": []
    },
    {
      "cell_type": "markdown",
      "source": [
        "Below we will visualize the sigmoid activation function."
      ],
      "metadata": {
        "id": "nlBrZKo61oAv"
      }
    },
    {
      "cell_type": "code",
      "source": [
        "# Generate an array of values ranging from -10 to 10\n",
        "x = np.linspace(-10, 10, 100)\n",
        "\n",
        "# Apply the sigmoid function to the array\n",
        "sigmoid_x = sigmoid(x)\n",
        "\n",
        "# Plot the original and sigmoid-transformed values\n",
        "plt.figure(figsize=(10, 5))\n",
        "plt.subplot(1, 2, 1)\n",
        "plt.plot(x, x)\n",
        "plt.title(\"Original Values\")\n",
        "\n",
        "plt.subplot(1, 2, 2)\n",
        "plt.plot(x, sigmoid_x)\n",
        "plt.title(\"Sigmoid Transformed Values\")\n",
        "\n",
        "plt.tight_layout()\n",
        "plt.show()"
      ],
      "metadata": {
        "colab": {
          "base_uri": "https://localhost:8080/",
          "height": 507
        },
        "id": "J8KjSnZVEpyI",
        "outputId": "7fb310e6-cebd-4ed6-e46b-b356edbc3e1c"
      },
      "execution_count": 3,
      "outputs": [
        {
          "output_type": "display_data",
          "data": {
            "text/plain": [
              "<Figure size 1000x500 with 2 Axes>"
            ],
            "image/png": "[encoded data removed]"
          },
          "metadata": {}
        }
      ]
    },
    {
      "cell_type": "markdown",
      "source": [
        "### Rectified Linear Unit (ReLU)\n",
        "\n",
        "ReLU is an activation function that outputs $x$ if it is greater than zero. Otherwise, if it is below zero, it will just output zero. This introduces sparse representations wich can reduce redundacy in the learned features. Below are the functions for ReLU and its derivative.\n",
        "\n",
        "\n",
        "$$\\text{ReLU(x)} = \\max(x, 0)$$\n",
        "\n",
        "$$\n",
        "\\frac{d}{dx}\\text{ReLU}(x) =\n",
        "\\begin{cases}\n",
        "1, & \\text{if } x > 0 \\\\\n",
        "0, & \\text{otherwise}\n",
        "\\end{cases}\n",
        "$$\n",
        "\n",
        "Below I will show the NumPy implementation of ReLU and its derivative that will be used in backpropagation."
      ],
      "metadata": {
        "id": "VD_z-qTdg9PQ"
      }
    },
    {
      "cell_type": "code",
      "source": [
        "def relu(x):\n",
        "    \"\"\"\n",
        "    ReLU Activation Function\n",
        "    \"\"\"\n",
        "    return np.maximum(x, 0)\n",
        "\n",
        "\n",
        "def relu_derivative(x):\n",
        "    \"\"\"\n",
        "    ReLU Derivative Function\n",
        "    \"\"\"\n",
        "    return np.where(x > 0, 1, 0)"
      ],
      "metadata": {
        "id": "mEInVdoohB8D"
      },
      "execution_count": 4,
      "outputs": []
    },
    {
      "cell_type": "markdown",
      "source": [
        "We will now visualize the ReLU activation and its derivative."
      ],
      "metadata": {
        "id": "dnCRfj8z2zLn"
      }
    },
    {
      "cell_type": "code",
      "source": [
        "x = np.linspace(-10, 10, 100)\n",
        "\n",
        "fig, ax = plt.subplots(3, 1, figsize=(10, 10))\n",
        "fig.subplots_adjust(hspace=0.75)\n",
        "\n",
        "ax[0].plot(x, x)\n",
        "ax[0].set_title('Unactivated')\n",
        "\n",
        "\n",
        "ax[0].set_ylim(x.min()-1, x.max()+1)\n",
        "ax[0].axhline(0, color='grey', linewidth=0.5, linestyle='--')\n",
        "ax[0].axvline(0, color='grey', linewidth=0.5, linestyle='--')\n",
        "\n",
        "ax[1].plot(x, relu(x))\n",
        "ax[1].set_title('ReLU Activated')\n",
        "\n",
        "ax[1].set_ylim(x.min()-1, x.max()+1)\n",
        "ax[1].axhline(0, color='grey', linewidth=0.5, linestyle='--')\n",
        "ax[1].axvline(0, color='grey', linewidth=0.5, linestyle='--')\n",
        "\n",
        "ax[2].scatter(x, relu_derivative(x))\n",
        "ax[2].set_title('ReLU Derivative')\n",
        "\n",
        "ax[2].set_ylim(-1.5, 1.5)\n",
        "ax[2].axhline(0, color='grey', linewidth=0.5)\n",
        "ax[2].axvline(0, color='grey', linewidth=0.5)\n",
        "\n",
        "\n",
        "plt.show()"
      ],
      "metadata": {
        "colab": {
          "base_uri": "https://localhost:8080/",
          "height": 853
        },
        "id": "npiVb5k9hLEB",
        "outputId": "f0c8377f-76dd-439c-e897-2e83ddaf824c"
      },
      "execution_count": 5,
      "outputs": [
        {
          "output_type": "display_data",
          "data": {
            "text/plain": [
              "<Figure size 1000x1000 with 3 Axes>"
            ],
            "image/png": "[encoded data removed]"
          },
          "metadata": {}
        }
      ]
    },
    {
      "cell_type": "markdown",
      "source": [
        "### Softmax\n",
        "\n",
        "The softmax equation is used to transform a vector of real numbers into a probability distribution over multiple classes. This is typically applied to the last layer of a multiclass classification problem. Below is the formula:\n",
        "\n",
        "$$\n",
        "\\text{Softmax}(x_i) = \\frac{e^{x_i}}{\\sum_{j=1}^{N} e^{x_j}}\n",
        "$$\n",
        "\n",
        "When we implement this in NumPy, we attempt to imporve numerical stability by making ${e^{x_i}}$ the result of subtracting $x$ from the max value among the logits rather than just taking the exponential function of $x$. When dealing with real-world data, these input values can sometimes be very large or very small, which can lead to numerical overflow (extremely large values) or underflow (extremely small values). Overflow can result in computational errors or NaN (Not-a-Number) values, which can disrupt the training of a neural network."
      ],
      "metadata": {
        "id": "WN391mv6g13b"
      }
    },
    {
      "cell_type": "code",
      "source": [
        "def softmax(x):\n",
        "    \"\"\"\n",
        "    Softmax Activation Function\n",
        "    \"\"\"\n",
        "    max_x = np.max(x, axis=-1, keepdims=True)\n",
        "    exp_x = np.exp(x - max_x)\n",
        "    return exp_x / np.sum(exp_x, axis=-1, keepdims=True)"
      ],
      "metadata": {
        "id": "18b6ezWfgIkX"
      },
      "execution_count": 6,
      "outputs": []
    },
    {
      "cell_type": "markdown",
      "source": [
        "Below we will visualize the effect of softmax."
      ],
      "metadata": {
        "id": "qVCZuMAv5VqH"
      }
    },
    {
      "cell_type": "code",
      "source": [
        "ex_array = np.random.randn(5, 3)\n",
        "softmax_logits = softmax(ex_array)\n",
        "\n",
        "fig, ax = plt.subplots(3, 1, figsize=(8, 12))\n",
        "\n",
        "# Plot raw logits\n",
        "cax0 = ax[0].imshow(ex_array, cmap='coolwarm', aspect='auto')\n",
        "ax[0].set_title('Raw Logits')\n",
        "fig.colorbar(cax0, ax=ax[0])\n",
        "\n",
        "# Plot softmax probabilities\n",
        "cax1 = ax[1].imshow(softmax_logits, cmap='viridis', aspect='auto')\n",
        "ax[1].set_title('Softmax Probabilities')\n",
        "fig.colorbar(cax1, ax=ax[1])\n",
        "\n",
        "# Plot sum of probabilities along the last axis\n",
        "ax[2].plot(softmax_logits.sum(axis=-1), 'o-')\n",
        "ax[2].set_title('Sum of Probabilities along Last Axis')\n",
        "ax[2].set_xlabel('Sample Index')\n",
        "ax[2].set_ylabel('Sum of Probabilities')\n",
        "\n",
        "plt.tight_layout()\n",
        "plt.show()"
      ],
      "metadata": {
        "colab": {
          "base_uri": "https://localhost:8080/",
          "height": 1000
        },
        "id": "XUeFa1dHXbiG",
        "outputId": "d183338c-ae8c-49ce-a242-1815c99c095a"
      },
      "execution_count": 7,
      "outputs": [
        {
          "output_type": "display_data",
          "data": {
            "text/plain": [
              "<Figure size 800x1200 with 5 Axes>"
            ],
            "image/png": "[encoded data removed]"
          },
          "metadata": {}
        }
      ]
    },
    {
      "cell_type": "markdown",
      "source": [
        "# Loss Function"
      ],
      "metadata": {
        "id": "SYl6WqmrqCrt"
      }
    },
    {
      "cell_type": "markdown",
      "source": [
        "We will be using **Categorical Cross-Entropy Loss** as our loss function. This is a common loss function to minimize when training multiclass classificaiton problems. The formula is shown below:\n",
        "\n",
        "$$L(y,\\ ŷ) = -∑(y_i * log(ŷ_i))$$\n",
        "\n",
        "Where $y$ is the truth one-hot encoded array and $ŷ$ is the predicted array with the same shape as the truth array."
      ],
      "metadata": {
        "id": "VIo7ynrnqFAz"
      }
    },
    {
      "cell_type": "markdown",
      "source": [
        "# Load in Data\n",
        "\n",
        "We will load in the MNIST dataset that comes with Google Colab."
      ],
      "metadata": {
        "id": "6BK9wxBwOKah"
      }
    },
    {
      "cell_type": "code",
      "source": [
        "train = pd.read_csv(\"/content/sample_data/mnist_train_small.csv\")\n",
        "test = pd.read_csv(\"/content/sample_data/mnist_test.csv\")"
      ],
      "metadata": {
        "id": "wP7dzUpUM_pj"
      },
      "execution_count": 8,
      "outputs": []
    },
    {
      "cell_type": "code",
      "source": [
        "train.head()"
      ],
      "metadata": {
        "colab": {
          "base_uri": "https://localhost:8080/",
          "height": 236
        },
        "id": "wbe7eEwDNNtW",
        "outputId": "f459c11b-9852-40b8-c728-f33def241889"
      },
      "execution_count": 9,
      "outputs": [
        {
          "output_type": "execute_result",
          "data": {
            "text/plain": [
              "   6  0  0.1  0.2  0.3  0.4  0.5  0.6  0.7  0.8  ...  0.581  0.582  0.583  \\\n",
              "0  5  0    0    0    0    0    0    0    0    0  ...      0      0      0   \n",
              "1  7  0    0    0    0    0    0    0    0    0  ...      0      0      0   \n",
              "2  9  0    0    0    0    0    0    0    0    0  ...      0      0      0   \n",
              "3  5  0    0    0    0    0    0    0    0    0  ...      0      0      0   \n",
              "4  2  0    0    0    0    0    0    0    0    0  ...      0      0      0   \n",
              "\n",
              "   0.584  0.585  0.586  0.587  0.588  0.589  0.590  \n",
              "0      0      0      0      0      0      0      0  \n",
              "1      0      0      0      0      0      0      0  \n",
              "2      0      0      0      0      0      0      0  \n",
              "3      0      0      0      0      0      0      0  \n",
              "4      0      0      0      0      0      0      0  \n",
              "\n",
              "[5 rows x 785 columns]"
            ],
            "text/html": [
              "\n",
              "  <div id=\"df-cc5bff81-332f-4a6a-a215-3c18559c8ca1\" class=\"colab-df-container\">\n",
              "    <div>\n",
              "<style scoped>\n",
              "    .dataframe tbody tr th:only-of-type {\n",
              "        vertical-align: middle;\n",
              "    }\n",
              "\n",
              "    .dataframe tbody tr th {\n",
              "        vertical-align: top;\n",
              "    }\n",
              "\n",
              "    .dataframe thead th {\n",
              "        text-align: right;\n",
              "    }\n",
              "</style>\n",
              "<table border=\"1\" class=\"dataframe\">\n",
              "  <thead>\n",
              "    <tr style=\"text-align: right;\">\n",
              "      <th></th>\n",
              "      <th>6</th>\n",
              "      <th>0</th>\n",
              "      <th>0.1</th>\n",
              "      <th>0.2</th>\n",
              "      <th>0.3</th>\n",
              "      <th>0.4</th>\n",
              "      <th>0.5</th>\n",
              "      <th>0.6</th>\n",
              "      <th>0.7</th>\n",
              "      <th>0.8</th>\n",
              "      <th>...</th>\n",
              "      <th>0.581</th>\n",
              "      <th>0.582</th>\n",
              "      <th>0.583</th>\n",
              "      <th>0.584</th>\n",
              "      <th>0.585</th>\n",
              "      <th>0.586</th>\n",
              "      <th>0.587</th>\n",
              "      <th>0.588</th>\n",
              "      <th>0.589</th>\n",
              "      <th>0.590</th>\n",
              "    </tr>\n",
              "  </thead>\n",
              "  <tbody>\n",
              "    <tr>\n",
              "      <th>0</th>\n",
              "      <td>5</td>\n",
              "      <td>0</td>\n",
              "      <td>0</td>\n",
              "      <td>0</td>\n",
              "      <td>0</td>\n",
              "      <td>0</td>\n",
              "      <td>0</td>\n",
              "      <td>0</td>\n",
              "      <td>0</td>\n",
              "      <td>0</td>\n",
              "      <td>...</td>\n",
              "      <td>0</td>\n",
              "      <td>0</td>\n",
              "      <td>0</td>\n",
              "      <td>0</td>\n",
              "      <td>0</td>\n",
              "      <td>0</td>\n",
              "      <td>0</td>\n",
              "      <td>0</td>\n",
              "      <td>0</td>\n",
              "      <td>0</td>\n",
              "    </tr>\n",
              "    <tr>\n",
              "      <th>1</th>\n",
              "      <td>7</td>\n",
              "      <td>0</td>\n",
              "      <td>0</td>\n",
              "      <td>0</td>\n",
              "      <td>0</td>\n",
              "      <td>0</td>\n",
              "      <td>0</td>\n",
              "      <td>0</td>\n",
              "      <td>0</td>\n",
              "      <td>0</td>\n",
              "      <td>...</td>\n",
              "      <td>0</td>\n",
              "      <td>0</td>\n",
              "      <td>0</td>\n",
              "      <td>0</td>\n",
              "      <td>0</td>\n",
              "      <td>0</td>\n",
              "      <td>0</td>\n",
              "      <td>0</td>\n",
              "      <td>0</td>\n",
              "      <td>0</td>\n",
              "    </tr>\n",
              "    <tr>\n",
              "      <th>2</th>\n",
              "      <td>9</td>\n",
              "      <td>0</td>\n",
              "      <td>0</td>\n",
              "      <td>0</td>\n",
              "      <td>0</td>\n",
              "      <td>0</td>\n",
              "      <td>0</td>\n",
              "      <td>0</td>\n",
              "      <td>0</td>\n",
              "      <td>0</td>\n",
              "      <td>...</td>\n",
              "      <td>0</td>\n",
              "      <td>0</td>\n",
              "      <td>0</td>\n",
              "      <td>0</td>\n",
              "      <td>0</td>\n",
              "      <td>0</td>\n",
              "      <td>0</td>\n",
              "      <td>0</td>\n",
              "      <td>0</td>\n",
              "      <td>0</td>\n",
              "    </tr>\n",
              "    <tr>\n",
              "      <th>3</th>\n",
              "      <td>5</td>\n",
              "      <td>0</td>\n",
              "      <td>0</td>\n",
              "      <td>0</td>\n",
              "      <td>0</td>\n",
              "      <td>0</td>\n",
              "      <td>0</td>\n",
              "      <td>0</td>\n",
              "      <td>0</td>\n",
              "      <td>0</td>\n",
              "      <td>...</td>\n",
              "      <td>0</td>\n",
              "      <td>0</td>\n",
              "      <td>0</td>\n",
              "      <td>0</td>\n",
              "      <td>0</td>\n",
              "      <td>0</td>\n",
              "      <td>0</td>\n",
              "      <td>0</td>\n",
              "      <td>0</td>\n",
              "      <td>0</td>\n",
              "    </tr>\n",
              "    <tr>\n",
              "      <th>4</th>\n",
              "      <td>2</td>\n",
              "      <td>0</td>\n",
              "      <td>0</td>\n",
              "      <td>0</td>\n",
              "      <td>0</td>\n",
              "      <td>0</td>\n",
              "      <td>0</td>\n",
              "      <td>0</td>\n",
              "      <td>0</td>\n",
              "      <td>0</td>\n",
              "      <td>...</td>\n",
              "      <td>0</td>\n",
              "      <td>0</td>\n",
              "      <td>0</td>\n",
              "      <td>0</td>\n",
              "      <td>0</td>\n",
              "      <td>0</td>\n",
              "      <td>0</td>\n",
              "      <td>0</td>\n",
              "      <td>0</td>\n",
              "      <td>0</td>\n",
              "    </tr>\n",
              "  </tbody>\n",
              "</table>\n",
              "<p>5 rows × 785 columns</p>\n",
              "</div>\n",
              "    <div class=\"colab-df-buttons\">\n",
              "\n",
              "  <div class=\"colab-df-container\">\n",
              "    <button class=\"colab-df-convert\" onclick=\"convertToInteractive('df-cc5bff81-332f-4a6a-a215-3c18559c8ca1')\"\n",
              "            title=\"Convert this dataframe to an interactive table.\"\n",
              "            style=\"display:none;\">\n",
              "\n",
              "  <svg xmlns=\"http://www.w3.org/2000/svg\" height=\"24px\" viewBox=\"0 -960 960 960\">\n",
              "    <path d=\"M120-120v-720h720v720H120Zm60-500h600v-160H180v160Zm220 220h160v-160H400v160Zm0 220h160v-160H400v160ZM180-400h160v-160H180v160Zm440 0h160v-160H620v160ZM180-180h160v-160H180v160Zm440 0h160v-160H620v160Z\"/>\n",
              "  </svg>\n",
              "    </button>\n",
              "\n",
              "  <style>\n",
              "    .colab-df-container {\n",
              "      display:flex;\n",
              "      gap: 12px;\n",
              "    }\n",
              "\n",
              "    .colab-df-convert {\n",
              "      background-color: #E8F0FE;\n",
              "      border: none;\n",
              "      border-radius: 50%;\n",
              "      cursor: pointer;\n",
              "      display: none;\n",
              "      fill: #1967D2;\n",
              "      height: 32px;\n",
              "      padding: 0 0 0 0;\n",
              "      width: 32px;\n",
              "    }\n",
              "\n",
              "    .colab-df-convert:hover {\n",
              "      background-color: #E2EBFA;\n",
              "      box-shadow: 0px 1px 2px rgba(60, 64, 67, 0.3), 0px 1px 3px 1px rgba(60, 64, 67, 0.15);\n",
              "      fill: #174EA6;\n",
              "    }\n",
              "\n",
              "    .colab-df-buttons div {\n",
              "      margin-bottom: 4px;\n",
              "    }\n",
              "\n",
              "    [theme=dark] .colab-df-convert {\n",
              "      background-color: #3B4455;\n",
              "      fill: #D2E3FC;\n",
              "    }\n",
              "\n",
              "    [theme=dark] .colab-df-convert:hover {\n",
              "      background-color: #434B5C;\n",
              "      box-shadow: 0px 1px 3px 1px rgba(0, 0, 0, 0.15);\n",
              "      filter: drop-shadow(0px 1px 2px rgba(0, 0, 0, 0.3));\n",
              "      fill: #FFFFFF;\n",
              "    }\n",
              "  </style>\n",
              "\n",
              "    <script>\n",
              "      const buttonEl =\n",
              "        document.querySelector('#df-cc5bff81-332f-4a6a-a215-3c18559c8ca1 button.colab-df-convert');\n",
              "      buttonEl.style.display =\n",
              "        google.colab.kernel.accessAllowed ? 'block' : 'none';\n",
              "\n",
              "      async function convertToInteractive(key) {\n",
              "        const element = document.querySelector('#df-cc5bff81-332f-4a6a-a215-3c18559c8ca1');\n",
              "        const dataTable =\n",
              "          await google.colab.kernel.invokeFunction('convertToInteractive',\n",
              "                                                    [key], {});\n",
              "        if (!dataTable) return;\n",
              "\n",
              "        const docLinkHtml = 'Like what you see? Visit the ' +\n",
              "          '<a target=\"_blank\" href=https://colab.research.google.com/notebooks/data_table.ipynb>data table notebook</a>'\n",
              "          + ' to learn more about interactive tables.';\n",
              "        element.innerHTML = '';\n",
              "        dataTable['output_type'] = 'display_data';\n",
              "        await google.colab.output.renderOutput(dataTable, element);\n",
              "        const docLink = document.createElement('div');\n",
              "        docLink.innerHTML = docLinkHtml;\n",
              "        element.appendChild(docLink);\n",
              "      }\n",
              "    </script>\n",
              "  </div>\n",
              "\n",
              "\n",
              "<div id=\"df-82848690-9150-47ae-b27d-3b7583589047\">\n",
              "  <button class=\"colab-df-quickchart\" onclick=\"quickchart('df-82848690-9150-47ae-b27d-3b7583589047')\"\n",
              "            title=\"Suggest charts\"\n",
              "            style=\"display:none;\">\n",
              "\n",
              "<svg xmlns=\"http://www.w3.org/2000/svg\" height=\"24px\"viewBox=\"0 0 24 24\"\n",
              "     width=\"24px\">\n",
              "    <g>\n",
              "        <path d=\"M19 3H5c-1.1 0-2 .9-2 2v14c0 1.1.9 2 2 2h14c1.1 0 2-.9 2-2V5c0-1.1-.9-2-2-2zM9 17H7v-7h2v7zm4 0h-2V7h2v10zm4 0h-2v-4h2v4z\"/>\n",
              "    </g>\n",
              "</svg>\n",
              "  </button>\n",
              "\n",
              "<style>\n",
              "  .colab-df-quickchart {\n",
              "      --bg-color: #E8F0FE;\n",
              "      --fill-color: #1967D2;\n",
              "      --hover-bg-color: #E2EBFA;\n",
              "      --hover-fill-color: #174EA6;\n",
              "      --disabled-fill-color: #AAA;\n",
              "      --disabled-bg-color: #DDD;\n",
              "  }\n",
              "\n",
              "  [theme=dark] .colab-df-quickchart {\n",
              "      --bg-color: #3B4455;\n",
              "      --fill-color: #D2E3FC;\n",
              "      --hover-bg-color: #434B5C;\n",
              "      --hover-fill-color: #FFFFFF;\n",
              "      --disabled-bg-color: #3B4455;\n",
              "      --disabled-fill-color: #666;\n",
              "  }\n",
              "\n",
              "  .colab-df-quickchart {\n",
              "    background-color: var(--bg-color);\n",
              "    border: none;\n",
              "    border-radius: 50%;\n",
              "    cursor: pointer;\n",
              "    display: none;\n",
              "    fill: var(--fill-color);\n",
              "    height: 32px;\n",
              "    padding: 0;\n",
              "    width: 32px;\n",
              "  }\n",
              "\n",
              "  .colab-df-quickchart:hover {\n",
              "    background-color: var(--hover-bg-color);\n",
              "    box-shadow: 0 1px 2px rgba(60, 64, 67, 0.3), 0 1px 3px 1px rgba(60, 64, 67, 0.15);\n",
              "    fill: var(--button-hover-fill-color);\n",
              "  }\n",
              "\n",
              "  .colab-df-quickchart-complete:disabled,\n",
              "  .colab-df-quickchart-complete:disabled:hover {\n",
              "    background-color: var(--disabled-bg-color);\n",
              "    fill: var(--disabled-fill-color);\n",
              "    box-shadow: none;\n",
              "  }\n",
              "\n",
              "  .colab-df-spinner {\n",
              "    border: 2px solid var(--fill-color);\n",
              "    border-color: transparent;\n",
              "    border-bottom-color: var(--fill-color);\n",
              "    animation:\n",
              "      spin 1s steps(1) infinite;\n",
              "  }\n",
              "\n",
              "  @keyframes spin {\n",
              "    0% {\n",
              "      border-color: transparent;\n",
              "      border-bottom-color: var(--fill-color);\n",
              "      border-left-color: var(--fill-color);\n",
              "    }\n",
              "    20% {\n",
              "      border-color: transparent;\n",
              "      border-left-color: var(--fill-color);\n",
              "      border-top-color: var(--fill-color);\n",
              "    }\n",
              "    30% {\n",
              "      border-color: transparent;\n",
              "      border-left-color: var(--fill-color);\n",
              "      border-top-color: var(--fill-color);\n",
              "      border-right-color: var(--fill-color);\n",
              "    }\n",
              "    40% {\n",
              "      border-color: transparent;\n",
              "      border-right-color: var(--fill-color);\n",
              "      border-top-color: var(--fill-color);\n",
              "    }\n",
              "    60% {\n",
              "      border-color: transparent;\n",
              "      border-right-color: var(--fill-color);\n",
              "    }\n",
              "    80% {\n",
              "      border-color: transparent;\n",
              "      border-right-color: var(--fill-color);\n",
              "      border-bottom-color: var(--fill-color);\n",
              "    }\n",
              "    90% {\n",
              "      border-color: transparent;\n",
              "      border-bottom-color: var(--fill-color);\n",
              "    }\n",
              "  }\n",
              "</style>\n",
              "\n",
              "  <script>\n",
              "    async function quickchart(key) {\n",
              "      const quickchartButtonEl =\n",
              "        document.querySelector('#' + key + ' button');\n",
              "      quickchartButtonEl.disabled = true;  // To prevent multiple clicks.\n",
              "      quickchartButtonEl.classList.add('colab-df-spinner');\n",
              "      try {\n",
              "        const charts = await google.colab.kernel.invokeFunction(\n",
              "            'suggestCharts', [key], {});\n",
              "      } catch (error) {\n",
              "        console.error('Error during call to suggestCharts:', error);\n",
              "      }\n",
              "      quickchartButtonEl.classList.remove('colab-df-spinner');\n",
              "      quickchartButtonEl.classList.add('colab-df-quickchart-complete');\n",
              "    }\n",
              "    (() => {\n",
              "      let quickchartButtonEl =\n",
              "        document.querySelector('#df-82848690-9150-47ae-b27d-3b7583589047 button');\n",
              "      quickchartButtonEl.style.display =\n",
              "        google.colab.kernel.accessAllowed ? 'block' : 'none';\n",
              "    })();\n",
              "  </script>\n",
              "</div>\n",
              "    </div>\n",
              "  </div>\n"
            ]
          },
          "metadata": {},
          "execution_count": 9
        }
      ]
    },
    {
      "cell_type": "code",
      "source": [
        "train.shape, test.shape"
      ],
      "metadata": {
        "colab": {
          "base_uri": "https://localhost:8080/"
        },
        "id": "w-DJxsUUPn1y",
        "outputId": "f0047512-1f8e-43a8-87df-d41ad82dca74"
      },
      "execution_count": 10,
      "outputs": [
        {
          "output_type": "execute_result",
          "data": {
            "text/plain": [
              "((19999, 785), (9999, 785))"
            ]
          },
          "metadata": {},
          "execution_count": 10
        }
      ]
    },
    {
      "cell_type": "code",
      "source": [
        "unique_labels = np.unique(train.iloc[:, 0].to_numpy())\n",
        "print(f\"labels: {unique_labels}\")\n",
        "print(f\"Number of Classes: {len(unique_labels)}\")\n",
        "print(f\"Value Counts: \\n{train.iloc[:, 0].value_counts()}\")"
      ],
      "metadata": {
        "colab": {
          "base_uri": "https://localhost:8080/"
        },
        "id": "8pCLYrGVz-HD",
        "outputId": "20da3390-f12c-443f-a40c-41078031e108"
      },
      "execution_count": 11,
      "outputs": [
        {
          "output_type": "stream",
          "name": "stdout",
          "text": [
            "labels: [0 1 2 3 4 5 6 7 8 9]\n",
            "Number of Classes: 10\n",
            "Value Counts: \n",
            "1    2243\n",
            "7    2126\n",
            "6    2038\n",
            "9    2023\n",
            "3    2021\n",
            "2    1989\n",
            "0    1962\n",
            "4    1924\n",
            "8    1912\n",
            "5    1761\n",
            "Name: 6, dtype: int64\n"
          ]
        }
      ]
    },
    {
      "cell_type": "markdown",
      "source": [
        "# Plot Sample"
      ],
      "metadata": {
        "id": "3P_fnxnROMH2"
      }
    },
    {
      "cell_type": "code",
      "source": [
        "sample_row = train.iloc[0]\n",
        "label = sample_row[0]\n",
        "pixel_values = sample_row[1:]\n",
        "\n",
        "# Reshape pixel values to 2D image (28x28 pixels)\n",
        "image = np.array(pixel_values).reshape(28, 28)\n",
        "\n",
        "# Plot the image\n",
        "plt.figure(figsize=(3, 3))\n",
        "plt.imshow(image, cmap='gray')\n",
        "plt.title(f\"Digit: {label}\")\n",
        "plt.axis('off')\n",
        "plt.show()"
      ],
      "metadata": {
        "colab": {
          "base_uri": "https://localhost:8080/",
          "height": 290
        },
        "id": "at4Qm9ZxNtvC",
        "outputId": "2f8010ab-1e75-4a5a-80c2-55be2d77db15"
      },
      "execution_count": 12,
      "outputs": [
        {
          "output_type": "display_data",
          "data": {
            "text/plain": [
              "<Figure size 300x300 with 1 Axes>"
            ],
            "image/png": "[encoded data removed]"
          },
          "metadata": {}
        }
      ]
    },
    {
      "cell_type": "markdown",
      "source": [
        "# Preprocess Data\n",
        "\n",
        "We will preproces our data in a way that our network can used for training."
      ],
      "metadata": {
        "id": "RVkh3wUnORsr"
      }
    },
    {
      "cell_type": "markdown",
      "source": [
        "### Create One Hot Encoder\n",
        "\n",
        "Since our labels are currently label encoded, we will create a custom one hot encoder to put them in the format a classification network will expect."
      ],
      "metadata": {
        "id": "4HlwvuotJg2E"
      }
    },
    {
      "cell_type": "code",
      "source": [
        "class OneHotEncoder:\n",
        "    \"\"\"\n",
        "    A simple one-hot encoder for converting categorical labels to one-hot vectors.\n",
        "\n",
        "    This class allows you to perform one-hot encoding on categorical labels. It is\n",
        "    initialized with a set of fitting data to determine the unique labels and their\n",
        "    corresponding one-hot indices.\n",
        "\n",
        "    Args:\n",
        "        fitting_data: A pandas Series or DataFrame containing the categorical labels\n",
        "                      used to determine the encoding scheme.\n",
        "\n",
        "    Attributes:\n",
        "        values (numpy.ndarray): An array of unique labels from the fitting data.\n",
        "        matrix_len (int): The length of the encoded one-hot vectors.\n",
        "\n",
        "    Methods:\n",
        "        transform(data):\n",
        "            Encode categorical labels in the input data into one-hot vectors.\n",
        "\n",
        "        inverse_transform(data):\n",
        "            Decode one-hot encoded vectors back into categorical labels.\n",
        "\n",
        "    Usage:\n",
        "        Create an instance of OneHotEncoder with fitting data, then use the transform\n",
        "        method to encode categorical labels and the inverse_transform method to decode\n",
        "        one-hot encoded vectors.\n",
        "    \"\"\"\n",
        "    def __init__(self, fitting_data):\n",
        "        self.values = np.unique(fitting_data.to_numpy()) # Unique labels\n",
        "        self.matrix_len = len(self.values) # Length of encoded matrix\n",
        "\n",
        "    def transform(self, data):\n",
        "        encoded_data = []\n",
        "        for label in data.to_numpy():\n",
        "            arr = np.zeros(self.matrix_len) # Initlalize zeros\n",
        "            arr[label[0]] = 1 # Set 1 for idx = label\n",
        "            encoded_data.append(arr) # Append to encoded data\n",
        "        return np.array(encoded_data)\n",
        "\n",
        "    def inverse_transform(self, data):\n",
        "        labels = []\n",
        "        for encoded_arr in data:\n",
        "            label = np.where(encoded_arr == 1)[0] # Find index where value is 1\n",
        "            labels.append(label) # Append to labels\n",
        "        return np.array(labels)"
      ],
      "metadata": {
        "id": "2QpV4CDXOZtj"
      },
      "execution_count": 13,
      "outputs": []
    },
    {
      "cell_type": "markdown",
      "source": [
        "### Split X and y\n",
        "\n",
        "We will create a function to split out training inputs from out labels."
      ],
      "metadata": {
        "id": "QZhjU4k_Jl2F"
      }
    },
    {
      "cell_type": "code",
      "source": [
        "def xy_split(dataset):\n",
        "    \"\"\"\n",
        "    Splits data into X and y.\n",
        "    \"\"\"\n",
        "    return dataset.iloc[:, 1:].to_numpy(), dataset.iloc[:, :1]"
      ],
      "metadata": {
        "id": "cqUnGzvU2hw2"
      },
      "execution_count": 14,
      "outputs": []
    },
    {
      "cell_type": "code",
      "source": [
        "X_train, y_train = xy_split(train)\n",
        "X_test, y_test = xy_split(test)"
      ],
      "metadata": {
        "id": "FZQNlnsEOtkK"
      },
      "execution_count": 15,
      "outputs": []
    },
    {
      "cell_type": "code",
      "source": [
        "print(X_train.shape, y_train.shape)\n",
        "print(X_test.shape, y_test.shape)"
      ],
      "metadata": {
        "colab": {
          "base_uri": "https://localhost:8080/"
        },
        "id": "D4Z-ywCpPi0T",
        "outputId": "5303e3aa-e552-4dd5-f217-334526bb4b16"
      },
      "execution_count": 16,
      "outputs": [
        {
          "output_type": "stream",
          "name": "stdout",
          "text": [
            "(19999, 784) (19999, 1)\n",
            "(9999, 784) (9999, 1)\n"
          ]
        }
      ]
    },
    {
      "cell_type": "markdown",
      "source": [
        "### Encode Target Variable\n",
        "\n",
        "Below we will apply our `OneHotEncoder` to our labels."
      ],
      "metadata": {
        "id": "iaQLJqt0JvY1"
      }
    },
    {
      "cell_type": "code",
      "source": [
        "ohe = OneHotEncoder(y_train)\n",
        "y_train_encoded = ohe.transform(y_train)\n",
        "y_test_encoded = ohe.transform(y_test)"
      ],
      "metadata": {
        "id": "pxAFZEXW2-po"
      },
      "execution_count": 17,
      "outputs": []
    },
    {
      "cell_type": "code",
      "source": [
        "print(X_train.shape, y_train_encoded.shape)\n",
        "print(X_test.shape, y_test_encoded.shape)"
      ],
      "metadata": {
        "colab": {
          "base_uri": "https://localhost:8080/"
        },
        "id": "j3pBnN_e2qYK",
        "outputId": "e0cd4b08-3662-4568-cbe7-1bf1de083f2d"
      },
      "execution_count": 18,
      "outputs": [
        {
          "output_type": "stream",
          "name": "stdout",
          "text": [
            "(19999, 784) (19999, 10)\n",
            "(9999, 784) (9999, 10)\n"
          ]
        }
      ]
    },
    {
      "cell_type": "code",
      "source": [
        "list(zip(y_train_encoded[:3], y_train.to_numpy()[:3]))"
      ],
      "metadata": {
        "colab": {
          "base_uri": "https://localhost:8080/"
        },
        "id": "MB94MXXTD80v",
        "outputId": "c295b08f-59c5-44e6-b10c-d863152249ae"
      },
      "execution_count": 19,
      "outputs": [
        {
          "output_type": "execute_result",
          "data": {
            "text/plain": [
              "[(array([0., 0., 0., 0., 0., 1., 0., 0., 0., 0.]), array([5])),\n",
              " (array([0., 0., 0., 0., 0., 0., 0., 1., 0., 0.]), array([7])),\n",
              " (array([0., 0., 0., 0., 0., 0., 0., 0., 0., 1.]), array([9]))]"
            ]
          },
          "metadata": {},
          "execution_count": 19
        }
      ]
    },
    {
      "cell_type": "code",
      "source": [
        "assert np.array_equal(ohe.inverse_transform(y_train_encoded), y_train.to_numpy())"
      ],
      "metadata": {
        "id": "wzZo1bOV5g66"
      },
      "execution_count": 20,
      "outputs": []
    },
    {
      "cell_type": "markdown",
      "source": [
        "### Define Configs\n",
        "\n",
        "We will define model configurations below."
      ],
      "metadata": {
        "id": "8UIc4r7kA5CI"
      }
    },
    {
      "cell_type": "code",
      "source": [
        "class Config:\n",
        "    input_nodes = X_train.shape[1]\n",
        "    n_classes = len(unique_labels)\n",
        "    learning_rate = 0.0001\n",
        "    epochs = 50\n",
        "    batch_size = 32"
      ],
      "metadata": {
        "id": "Qeadxs1I6Ttj"
      },
      "execution_count": 21,
      "outputs": []
    },
    {
      "cell_type": "markdown",
      "source": [
        "### Batch Data\n",
        "\n",
        "\n",
        "Batching data is a fundamental concept in machine learning and deep learning, especially when training neural networks. It involves dividing a dataset into smaller, manageable groups or batches of data instances. This is more computationally efficient and can lead to faster and more convergence. We will create a class that will batch our data into batches of 32 samples at a time, which is a common value to choose for a batch size."
      ],
      "metadata": {
        "id": "4GvYlsAgI7cS"
      }
    },
    {
      "cell_type": "code",
      "source": [
        "class BatchGenerator:\n",
        "    \"\"\"\n",
        "    A class for generating mini-batches from a dataset.\n",
        "\n",
        "    Args:\n",
        "        X_data (list or array-like): The input data.\n",
        "        y_data (list or array-like): The corresponding target labels.\n",
        "        batch_size (int): The size of each mini-batch.\n",
        "\n",
        "    Attributes:\n",
        "        X_data (list or array-like): The input data.\n",
        "        y_data (list or array-like): The corresponding target labels.\n",
        "        batch_size (int): The size of each mini-batch.\n",
        "        num_samples (int): The total number of data samples.\n",
        "        num_batches (int): The total number of mini-batches.\n",
        "        current_batch (int): The index of the current mini-batch.\n",
        "\n",
        "    Methods:\n",
        "        __len__(): Returns the number of mini-batches.\n",
        "        __iter__(): Returns an iterator for iterating over mini-batches.\n",
        "        __next__(): Generates the next mini-batch and returns it.\n",
        "\n",
        "    Usage:\n",
        "        Initialize an instance of BatchGenerator and use it to iterate over mini-batches\n",
        "        of your dataset during training.\n",
        "\n",
        "    Example:\n",
        "        >>> X_train = [1, 2, 3, 4, 5, 6, 7, 8, 9, 10]\n",
        "        >>> y_train = [0, 1, 0, 1, 0, 1, 0, 1, 0, 1]\n",
        "        >>> batch_size = 3\n",
        "        >>> batch_gen = BatchGenerator(X_train, y_train, batch_size)\n",
        "        >>> for batch_X, batch_y in batch_gen:\n",
        "        ...     print(batch_X, batch_y)\n",
        "    \"\"\"\n",
        "    def __init__(self, X_data, y_data, batch_size):\n",
        "        self.X_data = X_data\n",
        "        self.y_data = y_data\n",
        "        self.batch_size = batch_size\n",
        "        self.num_samples = len(X_data)\n",
        "        self.num_batches = int(np.ceil(self.num_samples / self.batch_size))\n",
        "        self.current_batch = 0\n",
        "\n",
        "    def __len__(self):\n",
        "        return self.num_batches\n",
        "\n",
        "    def __iter__(self):\n",
        "        return self\n",
        "\n",
        "    def __next__(self):\n",
        "        start_idx = self.current_batch * self.batch_size\n",
        "        end_idx = min(start_idx + self.batch_size, self.num_samples)\n",
        "\n",
        "        if start_idx >= self.num_samples:\n",
        "            self.current_batch = 0\n",
        "            raise StopIteration\n",
        "\n",
        "        batch_X = self.X_data[start_idx:end_idx]\n",
        "        batch_y = self.y_data[start_idx:end_idx]\n",
        "\n",
        "        self.current_batch += 1\n",
        "\n",
        "        return batch_X, batch_y"
      ],
      "metadata": {
        "id": "KqbyYANFI8ms"
      },
      "execution_count": 22,
      "outputs": []
    },
    {
      "cell_type": "code",
      "source": [
        "train_loader = BatchGenerator(X_train, y_train_encoded, Config.batch_size)\n",
        "eval_loader = BatchGenerator(X_test, y_test_encoded, Config.batch_size)\n",
        "\n",
        "for batch_X, batch_y in train_loader:\n",
        "    print(f\"Input Shape: {batch_X.shape}, Output Shape: {batch_y.shape}\")\n",
        "    break"
      ],
      "metadata": {
        "colab": {
          "base_uri": "https://localhost:8080/"
        },
        "id": "Kv2Qh1wWMjzW",
        "outputId": "ffca033a-673e-4729-981d-6ae6c6ca1180"
      },
      "execution_count": 23,
      "outputs": [
        {
          "output_type": "stream",
          "name": "stdout",
          "text": [
            "Input Shape: (32, 784), Output Shape: (32, 10)\n"
          ]
        }
      ]
    },
    {
      "cell_type": "code",
      "source": [
        "print(f\"Train Batches: {len(train_loader)}\")\n",
        "print(f\"Eval Batches: {len(eval_loader)}\")"
      ],
      "metadata": {
        "colab": {
          "base_uri": "https://localhost:8080/"
        },
        "id": "sujP3hGGwm0d",
        "outputId": "85368aac-4921-46dc-a025-54d6df94f3f8"
      },
      "execution_count": 24,
      "outputs": [
        {
          "output_type": "stream",
          "name": "stdout",
          "text": [
            "Train Batches: 625\n",
            "Eval Batches: 313\n"
          ]
        }
      ]
    },
    {
      "cell_type": "markdown",
      "source": [
        "# Build Model\n",
        "\n",
        "We will now construct the classes we need to make our network"
      ],
      "metadata": {
        "id": "LMM8x7SAP0KQ"
      }
    },
    {
      "cell_type": "markdown",
      "source": [
        "### Define Linear Layer\n",
        "\n",
        "We will define a linear layer class that will make up our NN architecture."
      ],
      "metadata": {
        "id": "Tytyb1GXVfPN"
      }
    },
    {
      "cell_type": "code",
      "source": [
        "class Linear:\n",
        "    \"\"\"\n",
        "    A customizable linear layer with various activation functions.\n",
        "\n",
        "    This class represents a single layer in a neural network, allowing you to specify\n",
        "    the activation function for that layer. It includes methods for forward and\n",
        "    backward propagation, as well as functions for common activation functions like\n",
        "    ReLU, sigmoid, and softmax.\n",
        "\n",
        "    Args:\n",
        "        input_nodes (int): The number of input nodes for the layer.\n",
        "        output_nodes (int): The number of output nodes for the layer.\n",
        "        activation (str): The activation function to be used ('relu', 'sigmoid', or 'softmax').\n",
        "\n",
        "    Methods:\n",
        "        __call__(self, inputs, weights, bias):\n",
        "            Perform forward propagation for the layer.\n",
        "\n",
        "        init(self):\n",
        "            Initialize weights and biases of layer with Xavier Initialization.\n",
        "\n",
        "        _forward(self, inputs):\n",
        "            Perform the forward pass for the layer, including activation.\n",
        "\n",
        "        _backward(self, error, A_before, W_prev, Z_curr):\n",
        "            Perform backward propagation for the layer.\n",
        "\n",
        "        _relu(self, x):\n",
        "            ReLU activation function.\n",
        "\n",
        "        _softmax(self, x):\n",
        "            Softmax activation function.\n",
        "\n",
        "        _sigmoid(self, x):\n",
        "            Sigmoid activation function.\n",
        "\n",
        "        _relu_derivative(self, x):\n",
        "            Derivative of the ReLU activation function.\n",
        "\n",
        "        _sigmoid_derivative(self, x):\n",
        "            Derivative of the sigmoid activation function.\n",
        "\n",
        "    Usage:\n",
        "        You can create instances of the Linear class to define layers in your neural\n",
        "        network and customize their activation functions.\n",
        "\n",
        "    Example:\n",
        "        >>> layer = Linear(input_nodes=64, output_nodes=32, activation='relu')\n",
        "        >>> output, Z = layer(inputs)\n",
        "    \"\"\"\n",
        "    def __init__(self, input_nodes, output_nodes, activation):\n",
        "        self.input_nodes = input_nodes\n",
        "        self.output_nodes = output_nodes\n",
        "        self.activation = activation\n",
        "        self.w = None\n",
        "        self.b = None\n",
        "        self.init()\n",
        "\n",
        "    def __call__(self, inputs):\n",
        "        \"\"\"\n",
        "        Call method implementing single layer forward propagation.\n",
        "        \"\"\"\n",
        "        return self._forward(inputs)\n",
        "\n",
        "    def init(self):\n",
        "        \"\"\"\n",
        "        Initialize weights and biases of layer with Xavier Initialization.\n",
        "        \"\"\"\n",
        "        input_units = self.input_nodes\n",
        "        output_units = self.output_nodes\n",
        "        self.w = np.random.uniform(\n",
        "            low=-np.sqrt(6.0 / (input_units + output_units)),\n",
        "            high=np.sqrt(6.0 / (input_units + output_units)),\n",
        "            size=(input_units, output_units)\n",
        "        )\n",
        "        self.b = np.zeros(output_units)\n",
        "\n",
        "    def _relu(self, x):\n",
        "        \"\"\"\n",
        "        ReLU activation function.\n",
        "        \"\"\"\n",
        "        return np.maximum(x, 0)\n",
        "\n",
        "    def _softmax(self, x):\n",
        "        \"\"\"\n",
        "        Softmax activation function.\n",
        "        \"\"\"\n",
        "        max_x = np.max(x, axis=-1, keepdims=True)\n",
        "        exp_x = np.exp(x - max_x)\n",
        "        return exp_x / np.sum(exp_x, axis=-1, keepdims=True)\n",
        "\n",
        "    def _relu_derivative(self, x):\n",
        "        \"\"\"\n",
        "        ReLU derivative function.\n",
        "        \"\"\"\n",
        "        return np.where(x > 0, 1, 0)\n",
        "\n",
        "    def _sigmoid(self, x):\n",
        "        \"\"\"\n",
        "        Sigmoid activation function.\n",
        "        \"\"\"\n",
        "        clipped_x = np.clip(x, -500, 500)  # Clip values to prevent overflow\n",
        "        return 1 / (1 + np.exp(-clipped_x))\n",
        "\n",
        "    def _sigmoid_derivative(self, x):\n",
        "        \"\"\"\n",
        "        Derivative of sigmoid.\n",
        "        \"\"\"\n",
        "        return self._sigmoid(x) * (1 - self._sigmoid(x))\n",
        "\n",
        "    def _forward(self, inputs):\n",
        "        \"\"\"\n",
        "        Single layer forward propagation.\n",
        "        \"\"\"\n",
        "        Z = np.dot(inputs, self.w) + self.b\n",
        "        if self.activation == 'relu':\n",
        "            A = self._relu(Z)\n",
        "        elif self.activation == 'sigmoid':\n",
        "            A = self._sigmoid(Z)\n",
        "        elif self.activation == 'softmax':\n",
        "            A = self._softmax(Z)\n",
        "        else:\n",
        "            raise ValueError(\"Invalid activation function: \" + self.activation)\n",
        "\n",
        "        return A, Z\n",
        "\n",
        "    def _backward(self,\n",
        "                  error,\n",
        "                  A_before,\n",
        "                  W_prev,\n",
        "                  Z_curr):\n",
        "        \"\"\"\n",
        "        Single layer backward propagation.\n",
        "\n",
        "        Args:\n",
        "            error (np.array): The last calculated error.\n",
        "            A_before (np.array): The activation from the layer before it during forward propagation.\n",
        "            W_prev (np.array): The weights array from the next layer during forward propagation.\n",
        "            Z_curr (np.array): The unactivated output from the current layer.\n",
        "\n",
        "        Returns:\n",
        "            dW (np.array): The gradient of the weights with respect to the loss.\n",
        "            db (np.array): The gradient of the bias with respect to the loss.\n",
        "            error (np.array): The propagated error for the previous layer.\n",
        "        \"\"\"\n",
        "        if self.activation == 'relu':\n",
        "            error = np.multiply(\n",
        "                np.dot(error, W_prev.T), self._relu_derivative(Z_curr)\n",
        "            )\n",
        "        elif self.activation == 'sigmoid':\n",
        "            error = np.multiply(\n",
        "                np.dot(error, W_prev.T), self._sigmoid_derivative(Z_curr)\n",
        "            )\n",
        "\n",
        "        dW = np.dot(A_before.T, error)\n",
        "        db = np.sum(error, axis=0)\n",
        "\n",
        "        return dW, db, error"
      ],
      "metadata": {
        "id": "Q4Z0ce7pcCWZ"
      },
      "execution_count": 25,
      "outputs": []
    },
    {
      "cell_type": "markdown",
      "source": [
        "### Build Network"
      ],
      "metadata": {
        "id": "e1dGe5WXVhQr"
      }
    },
    {
      "cell_type": "code",
      "source": [
        "class NeuralNetwork:\n",
        "    \"\"\"\n",
        "    A customizable neural network class for working with linear layers.\n",
        "\n",
        "    This class allows you to build and train neural networks composed of linear layers.\n",
        "    It provides methods for adding layers, compiling the network, performing forward and\n",
        "    backward passes, updating weights using stochastic gradient descent (SGD), and\n",
        "    calculating the cross-entropy loss and accuracy.\n",
        "\n",
        "    Args:\n",
        "        network (list): A list of linear layers to initialize the network (default is empty).\n",
        "\n",
        "    Attributes:\n",
        "        network (list): A list of linear layers representing the neural network.\n",
        "        architecture (dict): A dictionary describing the architecture of the network.\n",
        "        cache (dict): A dictionary storing weights and biases for each layer.\n",
        "        _z (list): A list of unactivated logits for each layer.\n",
        "        _a (list): A list of activated logits for each layer.\n",
        "        _weight_grads (list): A list of weight gradients for each layer.\n",
        "        _bias_grads (list): A list of bias gradients for each layer.\n",
        "        _compiled (bool): Indicates whether the network has been compiled.\n",
        "\n",
        "    Methods:\n",
        "        add(self, layer):\n",
        "            Add a linear layer to the network.\n",
        "\n",
        "        compile(self):\n",
        "            Initialize the model architecture and weights.\n",
        "\n",
        "        forward(self, x, requires_grad=True):\n",
        "            Perform a forward pass through the network.\n",
        "\n",
        "        zero_grad(self):\n",
        "            Reset gradients to zero.\n",
        "\n",
        "        backward(self, predicted, actual):\n",
        "            Perform a backward pass through the network and compute gradients.\n",
        "\n",
        "        step(self, lr):\n",
        "            Update weights using stochastic gradient descent (SGD).\n",
        "\n",
        "        cross_entropy(self, y_pred, y_true, epsilon=1e-10):\n",
        "            Calculate the cross-entropy loss.\n",
        "\n",
        "    Usage:\n",
        "        Create an instance of the NeuralNetwork class, add linear layers, compile the\n",
        "        network, and train it using forward and backward passes.\n",
        "\n",
        "    Example:\n",
        "        >>> model = NeuralNetwork()\n",
        "        >>> model.add(Linear(input_nodes=64, output_nodes=32, activation='relu'))\n",
        "        >>> model.compile()\n",
        "        >>> model.zero_grad()\n",
        "        >>> output = model(input_data)\n",
        "        >>> loss = model.cross_entropy(output, target_data)\n",
        "        >>> model.backward(output, target_data)\n",
        "        >>> model.step(learning_rate)\n",
        "    \"\"\"\n",
        "    def __init__(self, network=None):\n",
        "        self.network = [] if network is None else network\n",
        "        self.architecture = {}\n",
        "        self.cache = {}\n",
        "        self._z = [] # Unactived logits\n",
        "        self._a = [] # Activated logits\n",
        "        self._weight_grads = []\n",
        "        self._bias_grads = []\n",
        "        self._compiled = False\n",
        "\n",
        "        # Zero out gradients\n",
        "        self.zero_grad()\n",
        "\n",
        "    def __str__(self):\n",
        "        \"\"\"\n",
        "        Returns model architecture.\n",
        "        \"\"\"\n",
        "        arch = \"\\n\".join([str(item) for item in self.architecture.items()])\n",
        "        return \"\\n\".join([\"-\"*100, arch, \"-\"*100])\n",
        "\n",
        "    def __call__(self, x, requires_grad=True):\n",
        "        \"\"\"\n",
        "        Call method to implement self.forward().\n",
        "        \"\"\"\n",
        "        return self.forward(x, requires_grad=True)\n",
        "\n",
        "    def add(self, layer):\n",
        "        \"\"\"\n",
        "        Add layers to the network\n",
        "        \"\"\"\n",
        "        if not self._compiled:\n",
        "            self.network.append(layer)\n",
        "        else:\n",
        "            raise RuntimeError(\"Cannot add layers after compiling.\")\n",
        "\n",
        "    def compile(self):\n",
        "        \"\"\"\n",
        "        Initialize model architecture.\n",
        "        \"\"\"\n",
        "        self._build_cache()\n",
        "        for i, layer in enumerate(self.network):\n",
        "            self.architecture[f\"Layer_{i}\"] = {\n",
        "                \"Input nodes\": layer.input_nodes,\n",
        "                \"Output nodes\": layer.output_nodes,\n",
        "                \"Activation\": layer.activation\n",
        "            }\n",
        "        self._compiled = True\n",
        "\n",
        "    def _build_cache(self):\n",
        "        \"\"\"\n",
        "        Initialize the model parameters.\n",
        "        \"\"\"\n",
        "        for i, layer in enumerate(self.network):\n",
        "            self.cache[f'layer_{i}'] = {\n",
        "                \"weights\": layer.w,\n",
        "                \"bias\": layer.b\n",
        "            }\n",
        "\n",
        "    def forward(self, x, requires_grad=True):\n",
        "        \"\"\"\n",
        "        Performs one full forward pass through network.\n",
        "        \"\"\"\n",
        "        if requires_grad:\n",
        "            self._a.append(x) # Append input to activations\n",
        "\n",
        "        for layer in self.network:\n",
        "            A_curr, Z_curr = layer(self._a[-1])\n",
        "\n",
        "            if requires_grad:\n",
        "                self._a.append(A_curr) # Add activated output to memory\n",
        "                self._z.append(Z_curr) # Add unactivated output to memory\n",
        "\n",
        "        return A_curr\n",
        "\n",
        "    def zero_grad(self):\n",
        "        \"\"\"\n",
        "        Zeros out gradients.\n",
        "        \"\"\"\n",
        "        self._weight_grads = []\n",
        "        self._bias_grads = []\n",
        "        self._a = []\n",
        "        self._z = []\n",
        "\n",
        "    def backward(self, predicted, actual):\n",
        "        \"\"\"\n",
        "        Performs one full backward pass through network.\n",
        "        \"\"\"\n",
        "        error = predicted - actual # CCE loss error with respect to preds\n",
        "\n",
        "        for i in reversed(range(len(self.network))):\n",
        "            keys = list(self.cache.keys())\n",
        "            layer = self.network[i]\n",
        "\n",
        "            # check if it is last layer in network\n",
        "            if i == len(self.network)-1:\n",
        "                W_prev = None\n",
        "            else:\n",
        "                W_prev = self.cache[keys[i+1]]['weights']\n",
        "\n",
        "            dW, db, error = layer._backward(\n",
        "                error=error,\n",
        "                A_before=self._a[i],\n",
        "                W_prev=W_prev,\n",
        "                Z_curr=self._z[i]\n",
        "            )\n",
        "\n",
        "            self._weight_grads.insert(0, dW)\n",
        "            self._bias_grads.insert(0, db)\n",
        "\n",
        "    def step(self, lr):\n",
        "        \"\"\"\n",
        "        Update weights with SGD.\n",
        "        \"\"\"\n",
        "        for i, key in enumerate(list(self.cache.keys())):\n",
        "            self.cache[key]['weights'] -= lr * self._weight_grads[i]\n",
        "            self.cache[key]['bias'] -= lr * self._bias_grads[i]\n",
        "\n",
        "    def cross_entropy(self, y_pred, y_true, epsilon=1e-10):\n",
        "        \"\"\"\n",
        "        Cross-entropy loss function with epsilon to avoid divide by zero.\n",
        "        \"\"\"\n",
        "        y_pred = np.maximum(y_pred, epsilon)\n",
        "        return -np.mean(np.sum(y_true * np.log(y_pred), axis=-1))"
      ],
      "metadata": {
        "id": "8MmSB8BnP2o1"
      },
      "execution_count": 26,
      "outputs": []
    },
    {
      "cell_type": "code",
      "source": [
        "model = NeuralNetwork([\n",
        "    Linear(Config.input_nodes, 128, 'sigmoid'),\n",
        "    Linear(128, 64, 'sigmoid'),\n",
        "    Linear(64, Config.n_classes, 'softmax')\n",
        "])\n",
        "\n",
        "model.compile()"
      ],
      "metadata": {
        "id": "7pTTqHMOTsqV"
      },
      "execution_count": 27,
      "outputs": []
    },
    {
      "cell_type": "code",
      "source": [
        "print(model)"
      ],
      "metadata": {
        "id": "by-WL8HGVk9E",
        "colab": {
          "base_uri": "https://localhost:8080/"
        },
        "outputId": "046b4a9f-ee98-41c2-99c1-ef77005c6d71"
      },
      "execution_count": 28,
      "outputs": [
        {
          "output_type": "stream",
          "name": "stdout",
          "text": [
            "----------------------------------------------------------------------------------------------------\n",
            "('Layer_0', {'Input nodes': 784, 'Output nodes': 128, 'Activation': 'sigmoid'})\n",
            "('Layer_1', {'Input nodes': 128, 'Output nodes': 64, 'Activation': 'sigmoid'})\n",
            "('Layer_2', {'Input nodes': 64, 'Output nodes': 10, 'Activation': 'softmax'})\n",
            "----------------------------------------------------------------------------------------------------\n"
          ]
        }
      ]
    },
    {
      "cell_type": "markdown",
      "source": [
        "# Train Network\n",
        "\n",
        "To train our model, we need to create a loop that will loop through our batches and run training procedure on each batch for multiple epochs. I will create a functional class for this so it is easy to read. I will also add functionality for predicting samples after training."
      ],
      "metadata": {
        "id": "G_Q-Fg2dl2kL"
      }
    },
    {
      "cell_type": "code",
      "source": [
        "class NetworkClassifier:\n",
        "    \"\"\"\n",
        "    A class for training and evaluating neural network models.\n",
        "\n",
        "    This class is designed to facilitate the training and evaluation of neural network\n",
        "    models. It takes a model, training configurations, and data loaders for both\n",
        "    training and evaluation. The class provides methods for training a model for\n",
        "    multiple epochs, evaluating its performance, and making predictions.\n",
        "\n",
        "    Args:\n",
        "        model: An instance of a neural network model to be trained and evaluated.\n",
        "        configs: A configuration object containing training hyperparameters.\n",
        "        train_loader: DataLoader for the training dataset.\n",
        "        eval_loader: DataLoader for the evaluation dataset.\n",
        "\n",
        "    Attributes:\n",
        "        model: The neural network model to be trained.\n",
        "        configs: Training hyperparameters and configurations.\n",
        "        train_loader: DataLoader for the training dataset.\n",
        "        eval_loader: DataLoader for the evaluation dataset.\n",
        "        history (dict): A dictionary to track training and evaluation metrics.\n",
        "\n",
        "    Methods:\n",
        "        _train_single_epoch(self):\n",
        "            Perform training for a single epoch and compute training metrics.\n",
        "\n",
        "        evaluate(self):\n",
        "            Evaluate the model on the evaluation dataset and compute evaluation metrics.\n",
        "\n",
        "        train(self):\n",
        "            Train the model for multiple epochs and record training history.\n",
        "\n",
        "        predict(self, x):\n",
        "            Make predictions using the trained model.\n",
        "\n",
        "        get_accuracy(self, y_pred, y_true):\n",
        "            Calculate the accuracy of the model's predictions.\n",
        "\n",
        "    Usage:\n",
        "        Create an instance of NetworkTrainer with a model, configurations, and data loaders,\n",
        "        then use the train method to train the model. You can also use the evaluate method\n",
        "        to assess the model's performance and predict method to make predictions.\n",
        "\n",
        "    Example:\n",
        "        >>> classifier = NetworkClassifier(model, configs, train_loader, eval_loader)\n",
        "        >>> history = classifier.train()\n",
        "        >>> evaluation_loss, evaluation_accuracy = classifier.evaluate()\n",
        "        >>> predictions = classifier.predict(input_data)\n",
        "        >>> accuracy = classifier.get_accuracy(predictions, y_true)\n",
        "    \"\"\"\n",
        "    def __init__(self, model, configs, train_loader, eval_loader):\n",
        "        self.model = model\n",
        "        self.configs = configs\n",
        "        self.train_loader = train_loader\n",
        "        self.eval_loader = eval_loader\n",
        "        self.history = {} # Track training\n",
        "\n",
        "    def _train_single_epoch(self):\n",
        "        running_loss = 0.00\n",
        "        n_correct = 0\n",
        "        samples = 0\n",
        "        batches = len(self.train_loader)\n",
        "        for idx, (in_data, labels) in enumerate(self.train_loader):\n",
        "\n",
        "            # zero out grads\n",
        "            self.model.zero_grad()\n",
        "\n",
        "            # forward prop\n",
        "            outputs = self.model(in_data)\n",
        "            loss = self.model.cross_entropy(outputs, labels)\n",
        "\n",
        "            # backward prop\n",
        "            self.model.backward(outputs, labels)\n",
        "            self.model.step(lr=self.configs.learning_rate)\n",
        "\n",
        "            # update metrics\n",
        "            running_loss += loss\n",
        "            n_correct += np.sum(outputs.argmax(-1) == labels.argmax(-1))\n",
        "            samples += len(labels)\n",
        "\n",
        "        epoch_loss = running_loss / batches\n",
        "        epoch_acc = n_correct / samples\n",
        "        return epoch_loss, epoch_acc\n",
        "\n",
        "    def evaluate(self):\n",
        "        running_loss = 0.00\n",
        "        n_correct = 0\n",
        "        samples = 0\n",
        "        batches = len(self.eval_loader)\n",
        "        for idx, (in_data, labels) in enumerate(self.eval_loader):\n",
        "\n",
        "            # forward prop\n",
        "            outputs = self.model(in_data, requires_grad=False)\n",
        "            loss = self.model.cross_entropy(outputs, labels)\n",
        "\n",
        "            # update metrics\n",
        "            running_loss += loss\n",
        "            n_correct += np.sum(outputs.argmax(-1) == labels.argmax(-1))\n",
        "            samples += len(labels)\n",
        "\n",
        "        epoch_loss = running_loss / batches\n",
        "        epoch_acc = n_correct / samples\n",
        "        return epoch_loss, epoch_acc\n",
        "\n",
        "    def train(self):\n",
        "        train_accuracies, train_losses = [], []\n",
        "        eval_accuracies, eval_losses = [], []\n",
        "        for epoch in range(self.configs.epochs):\n",
        "            # Train epoch\n",
        "            train_loss, train_acc = self._train_single_epoch()\n",
        "            train_losses.append(train_loss)\n",
        "            train_accuracies.append(train_acc)\n",
        "\n",
        "            # Eval epoch\n",
        "            eval_loss, eval_acc = self.evaluate()\n",
        "            eval_losses.append(eval_loss)\n",
        "            eval_accuracies.append(eval_acc)\n",
        "\n",
        "            if ((epoch+1) % 5 == 0) or (epoch == 0):\n",
        "                print(f\"Epoch {epoch+1}/{self.configs.epochs}:\")\n",
        "                print(\"train loss: {:.4f}, train acc: {:.4f}\".format(train_loss, train_acc))\n",
        "                print(\"eval loss: {:.4f}, eval acc: {:.4f}\".format(eval_loss, eval_acc))\n",
        "                print()\n",
        "\n",
        "        self.history['training'] = {\n",
        "            'accuracy': train_accuracies,\n",
        "            'loss': train_losses\n",
        "        }\n",
        "\n",
        "        self.history['eval'] = {\n",
        "            'accuracy': eval_accuracies,\n",
        "            'loss': eval_losses\n",
        "        }\n",
        "\n",
        "        return self.history\n",
        "\n",
        "    def predict(self, x):\n",
        "        output = self.model(x, requires_grad=False)\n",
        "        return output.argmax(-1)\n",
        "\n",
        "    def get_accuracy(self, y_pred, y_true):\n",
        "        \"\"\"\n",
        "        Accuracy function.\n",
        "\n",
        "        Args:\n",
        "            y_pred (np.array): A one-dimentional array with predicted labels.\n",
        "            y_true (np.array): A two-dimentional one-hot encoded array of true values.\n",
        "        \"\"\"\n",
        "        return np.mean(y_pred == y_true.argmax(-1))"
      ],
      "metadata": {
        "id": "VQLKvaBhWVSh"
      },
      "execution_count": 29,
      "outputs": []
    },
    {
      "cell_type": "code",
      "source": [
        "classifier = NetworkClassifier(model, Config, train_loader, eval_loader)\n",
        "history = classifier.train()"
      ],
      "metadata": {
        "colab": {
          "base_uri": "https://localhost:8080/"
        },
        "id": "Z3z8q_8TaN5H",
        "outputId": "8e6a9fbb-34ea-4ad4-bcec-39e31535075f"
      },
      "execution_count": 30,
      "outputs": [
        {
          "output_type": "stream",
          "name": "stdout",
          "text": [
            "Epoch 1/50:\n",
            "train loss: 2.1420, train acc: 0.3641\n",
            "eval loss: 1.9578, eval acc: 0.5566\n",
            "\n",
            "Epoch 5/50:\n",
            "train loss: 1.1738, train acc: 0.8165\n",
            "eval loss: 1.0877, eval acc: 0.8329\n",
            "\n",
            "Epoch 10/50:\n",
            "train loss: 0.6570, train acc: 0.8779\n",
            "eval loss: 0.6338, eval acc: 0.8780\n",
            "\n",
            "Epoch 15/50:\n",
            "train loss: 0.4695, train acc: 0.9000\n",
            "eval loss: 0.4733, eval acc: 0.8949\n",
            "\n",
            "Epoch 20/50:\n",
            "train loss: 0.3757, train acc: 0.9152\n",
            "eval loss: 0.3929, eval acc: 0.9055\n",
            "\n",
            "Epoch 25/50:\n",
            "train loss: 0.3208, train acc: 0.9231\n",
            "eval loss: 0.3505, eval acc: 0.9102\n",
            "\n",
            "Epoch 30/50:\n",
            "train loss: 0.2827, train acc: 0.9327\n",
            "eval loss: 0.3225, eval acc: 0.9157\n",
            "\n",
            "Epoch 35/50:\n",
            "train loss: 0.2541, train acc: 0.9397\n",
            "eval loss: 0.2997, eval acc: 0.9193\n",
            "\n",
            "Epoch 40/50:\n",
            "train loss: 0.2292, train acc: 0.9442\n",
            "eval loss: 0.2868, eval acc: 0.9202\n",
            "\n",
            "Epoch 45/50:\n",
            "train loss: 0.2116, train acc: 0.9480\n",
            "eval loss: 0.2734, eval acc: 0.9244\n",
            "\n",
            "Epoch 50/50:\n",
            "train loss: 0.1959, train acc: 0.9513\n",
            "eval loss: 0.2632, eval acc: 0.9257\n",
            "\n"
          ]
        }
      ]
    },
    {
      "cell_type": "markdown",
      "source": [
        "# Evaluate Training\n",
        "\n",
        "We will use the history object to plot training and validation progression."
      ],
      "metadata": {
        "id": "Y57xz-D-oZPd"
      }
    },
    {
      "cell_type": "code",
      "source": [
        "fig, ax = plt.subplots(2, 1, figsize=(10, 6))\n",
        "fig.subplots_adjust(hspace=0.5)\n",
        "\n",
        "ax[0].plot(history['training']['accuracy'], label='Training')\n",
        "ax[0].plot(history['eval']['accuracy'], label='Validation')\n",
        "ax[0].legend()\n",
        "ax[0].set_title('Accuracy')\n",
        "ax[0].set_xlabel('Epoch')\n",
        "ax[0].set_ylabel('Accuracy')\n",
        "ax[0].set_ylim(0, 1)\n",
        "\n",
        "# Plot training and validation losses\n",
        "ax[1].plot(history['training']['loss'], label='Training')\n",
        "ax[1].plot(history['eval']['loss'], label='Validation')\n",
        "ax[1].set_title('Loss')\n",
        "ax[1].set_xlabel('Epoch')\n",
        "ax[1].set_ylabel('Loss')\n",
        "ax[1].set_ylim(0, 2.5)\n",
        "ax[1].legend()\n",
        "\n",
        "plt.show()"
      ],
      "metadata": {
        "colab": {
          "base_uri": "https://localhost:8080/",
          "height": 564
        },
        "id": "llw_fJjNoa61",
        "outputId": "c719c06d-dae9-4f75-8932-9a4744e7e489"
      },
      "execution_count": 31,
      "outputs": [
        {
          "output_type": "display_data",
          "data": {
            "text/plain": [
              "<Figure size 1000x600 with 2 Axes>"
            ],
            "image/png": "[encoded data removed]"
          },
          "metadata": {}
        }
      ]
    },
    {
      "cell_type": "markdown",
      "source": [
        "# Evaluate on Validation Data\n",
        "\n",
        "We will use our trainers `.evaluate()` method to evaulate our model on validation data."
      ],
      "metadata": {
        "id": "XuqvoxyboWXl"
      }
    },
    {
      "cell_type": "code",
      "source": [
        "val_loss, val_acc = classifier.evaluate()\n",
        "print(\"Validation Loss {:.4f}, Validation Accuracy {:.4f}\".format(val_loss, val_acc))"
      ],
      "metadata": {
        "colab": {
          "base_uri": "https://localhost:8080/"
        },
        "id": "QuMU6-D8hcsY",
        "outputId": "1bc895ce-4ee9-4a69-ae3d-7f2e4503e2ed"
      },
      "execution_count": 32,
      "outputs": [
        {
          "output_type": "stream",
          "name": "stdout",
          "text": [
            "Validation Loss 0.2632, Validation Accuracy 0.9257\n"
          ]
        }
      ]
    },
    {
      "cell_type": "markdown",
      "source": [
        "# Make Prediction\n",
        "\n",
        "We will take a batch from our validation set and make a prediction using our `.predict()` method and evaluate the accuracy with the `.get_accuracy()` method."
      ],
      "metadata": {
        "id": "wZOzVNR8oS4t"
      }
    },
    {
      "cell_type": "code",
      "source": [
        "for test_in, test_out in eval_loader:\n",
        "    break"
      ],
      "metadata": {
        "id": "5RPSA5MSvZTU"
      },
      "execution_count": 33,
      "outputs": []
    },
    {
      "cell_type": "code",
      "source": [
        "predictions = classifier.predict(test_in)\n",
        "accuracy = classifier.get_accuracy(predictions, test_out)\n",
        "print(\"This batch had a {:.4} accuracy.\".format(accuracy))"
      ],
      "metadata": {
        "colab": {
          "base_uri": "https://localhost:8080/"
        },
        "id": "DnArEIVAfnwJ",
        "outputId": "8d13263b-87cf-4279-90a5-d184e7679457"
      },
      "execution_count": 34,
      "outputs": [
        {
          "output_type": "stream",
          "name": "stdout",
          "text": [
            "This batch had a 0.9688 accuracy.\n"
          ]
        }
      ]
    },
    {
      "cell_type": "code",
      "source": [
        "print(f\"y_pred: {predictions} \\ny_true: {test_out.argmax(-1)}\")"
      ],
      "metadata": {
        "colab": {
          "base_uri": "https://localhost:8080/"
        },
        "id": "JbMcI1GVE-at",
        "outputId": "3cf8ad75-7b33-4d53-e4c0-5863fb21a7a6"
      },
      "execution_count": 35,
      "outputs": [
        {
          "output_type": "stream",
          "name": "stdout",
          "text": [
            "y_pred: [2 1 0 4 1 4 9 6 9 0 6 9 0 1 5 9 7 3 4 9 6 6 5 4 0 7 4 0 1 3 1 3] \n",
            "y_true: [2 1 0 4 1 4 9 5 9 0 6 9 0 1 5 9 7 3 4 9 6 6 5 4 0 7 4 0 1 3 1 3]\n"
          ]
        }
      ]
    }
  ]
}